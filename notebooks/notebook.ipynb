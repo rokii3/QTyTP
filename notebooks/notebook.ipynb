{
 "cells": [
  {
   "cell_type": "markdown",
   "metadata": {},
   "source": [
    "### TO DO:\n",
    "1. finish the skeleton"
   ]
  },
  {
   "cell_type": "markdown",
   "metadata": {},
   "source": [
    "# Title:\n",
    "\n",
    "\n",
    "## Table of contents:\n",
    "1. Introduction\n",
    "2. Literature review (STS and Interrogative intent)\n",
    "3. Q-type dataset\n",
    "4. Data processing\n",
    "   4.1 preprocessing\n",
    "   4.2 embedding generation\n",
    "   4.3 similarity calculation\n",
    "   4.4 Data analysis\n",
    "   4.5 Qualitative analysis\n",
    "5. Results\n",
    "6. Discussion\n",
    "7. Summary"
   ]
  },
  {
   "cell_type": "markdown",
   "metadata": {},
   "source": [
    "RQ: \n",
    "\n",
    "How does the all-mpnet-base-v2 model represent the semantic similarity between a question in a target language (Afrikaans, Arabic, Indonesian, or Marathi) and its English counterpart, and how do specific linguistic features of those questions affect this representation?\n",
    "\n",
    "To what extent"
   ]
  }
 ],
 "metadata": {
  "language_info": {
   "name": "python"
  }
 },
 "nbformat": 4,
 "nbformat_minor": 2
}
